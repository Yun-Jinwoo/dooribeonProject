{
 "cells": [
  {
   "cell_type": "code",
   "execution_count": null,
   "id": "44a96fec-6e4e-4838-a945-abb5307b22b3",
   "metadata": {},
   "outputs": [],
   "source": [
    "from ultralytics import YOLO\n",
    "import numpy as np\n",
    "cap = cv2.VideoCapture(\"test2.mp4\")\n",
    "model = YOLO(\"yolov8m.pt\")\n",
    "...\n",
    "    results = model(frame)\n",
    "    result = results[0]\n",
    "    bboxes = result.boxes.xyxy\n",
    "    print(boxes)\n",
    "    \n",
    "    bboxes = np.array(result.boxes.xyxy.cpu(), dtype=\"int\")\n",
    "    classes = np.array(result.boxes.cls.cpu(), dtype=\"int\")\n",
    "    \n",
    "     for cls, bbox in zip(classes, bboxes):\n",
    "        (x, y, x2, y2) = bbox\n",
    "        cv2.rectangle(frame, (x, y), (x2, y2), (0, 0, 225), 2)\n",
    "        cv2.putText(frame, str(cls), (x, y - 5), cv2.FONT_HERSHEY_PLAIN, 2, (0, 0, 225), 2)"
   ]
  },
  {
   "cell_type": "code",
   "execution_count": null,
   "id": "b3994d0e-a381-4b89-8ad1-d63247ac9757",
   "metadata": {},
   "outputs": [],
   "source": [
    "import cv2\n",
    "cap = cv2.VideoCapture(\"dogs.mp4\")\n",
    "while True:\n",
    "    ret, frame = cap.read()\n",
    "    if not ret:\n",
    "        break\n",
    "    cv2.imshow(\"Img\", frame)\n",
    "    key = cv2.waitKey(1)\n",
    "    if key == 27:\n",
    "        break\n",
    "cap.release()\n",
    "cv2.destroyAllWindows()\n"
   ]
  }
 ],
 "metadata": {
  "kernelspec": {
   "display_name": "Python 3 (ipykernel)",
   "language": "python",
   "name": "python3"
  },
  "language_info": {
   "codemirror_mode": {
    "name": "ipython",
    "version": 3
   },
   "file_extension": ".py",
   "mimetype": "text/x-python",
   "name": "python",
   "nbconvert_exporter": "python",
   "pygments_lexer": "ipython3",
   "version": "3.10.9"
  }
 },
 "nbformat": 4,
 "nbformat_minor": 5
}
